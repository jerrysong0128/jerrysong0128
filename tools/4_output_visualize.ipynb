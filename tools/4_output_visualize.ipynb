{
 "cells": [
  {
   "attachments": {},
   "cell_type": "markdown",
   "metadata": {},
   "source": [
    "# The Input Sqlite Path"
   ]
  },
  {
   "cell_type": "code",
   "execution_count": 1,
   "metadata": {},
   "outputs": [],
   "source": [
    "db_path ='/Users/jerrysong/Study_Grad/Nankai_Research_with_Python/Nankai_Research/Temoa_2.0_collection/data_files/Self_MaAp/data/Temoa_CN_MaAp.sqlite'"
   ]
  },
  {
   "attachments": {},
   "cell_type": "markdown",
   "metadata": {},
   "source": [
    "# Requirements\n",
    "比如说Primary Energy Breakdown、By-Sector Final Energy Breakdown、CO2 emissions（Total和By-Sector）"
   ]
  },
  {
   "cell_type": "code",
   "execution_count": 2,
   "metadata": {},
   "outputs": [],
   "source": [
    "import sqlite3\n",
    "con = sqlite3.connect(db_path) #change path to database\n",
    "cur = con.cursor()   \n",
    "con.text_factory = str "
   ]
  },
  {
   "cell_type": "code",
   "execution_count": 3,
   "metadata": {},
   "outputs": [],
   "source": [
    "import pandas as pd\n",
    "import numpy as np\n",
    "import matplotlib.pyplot as plt\n",
    "from IPython.display import HTML, display, Markdown, Image\n",
    "import seaborn as sns\n",
    "\n",
    "# the emission graph\n",
    "def emission_graph(emission_type):\n",
    "    df = pd.read_sql(\"SELECT * FROM Output_Emissions\", con)\n",
    "    df['emissions_comm'] = df['emissions_comm'].str.split('_').str[0]\n",
    "    emission_df = df[df['emissions_comm'] == emission_type]\n",
    "    # group by emission type and period, summing the emission amounts\n",
    "    grouped = emission_df.groupby(['sector','t_periods']).agg({'emissions': np.sum})\n",
    "    # pivot the table to have emission types as columns and periods as rows\n",
    "    pivot_table = grouped.pivot_table(values='emissions', index='t_periods', columns='sector')\n",
    "    # create a bar chart\n",
    "    colors = sns.color_palette('tab20', len(pivot_table.columns))\n",
    "    fig=pivot_table.plot(kind='bar', stacked=True,color=colors)\n",
    "    fig.legend(loc=2, bbox_to_anchor=(1.05,1.0),borderaxespad = 0.)     \n",
    "    # set the title and axis labels\n",
    "    plt.title('Emission Amounts of {} by Type and Period'.format(emission_type))\n",
    "    plt.xlabel('Period')\n",
    "    plt.ylabel('Emission Amount')\n",
    "    # show the chart\n",
    "    plt.show()\n",
    "\n",
    "import ipywidgets as widgets\n",
    "from ipywidgets import HBox, VBox, Layout\n",
    "\n",
    "def select_emission_comm():\n",
    "    df = pd.read_sql(\"SELECT * FROM Output_Emissions\", con)\n",
    "    df['emissions_comm'] = df['emissions_comm'].str.split('_').str[0]\n",
    "    select_options = df[\"emissions_comm\"].unique()  \n",
    "    layout = widgets.Layout(width='200px', height = '100px') \n",
    "    w1 = widgets.Select(options=np.sort(select_options),description='Emission_Type',layout=layout)\n",
    "    w = widgets.interactive(emission_graph,emission_type = w1)\n",
    "    controls_rows(w)\n",
    "\n",
    "def controls_rows(w):\n",
    "    controls = HBox(w.children[:-1], layout = Layout(flex_flow='row wrap', width='max-content'))\n",
    "    output = w.children[-1]\n",
    "    display(VBox([controls, output],  layout = Layout(flex_flow='columns wrap', width='max-content', height='max-content')))\n"
   ]
  },
  {
   "attachments": {},
   "cell_type": "markdown",
   "metadata": {},
   "source": [
    "# The Emission by Sector by Period"
   ]
  },
  {
   "cell_type": "code",
   "execution_count": 4,
   "metadata": {},
   "outputs": [
    {
     "data": {
      "application/vnd.jupyter.widget-view+json": {
       "model_id": "177f34ba1cfc470bbeb5ca7f040bc976",
       "version_major": 2,
       "version_minor": 0
      },
      "text/plain": [
       "VBox(children=(HBox(children=(Select(description='Emission_Type', layout=Layout(height='100px', width='200px')…"
      ]
     },
     "metadata": {},
     "output_type": "display_data"
    }
   ],
   "source": [
    "select_emission_comm()"
   ]
  },
  {
   "cell_type": "code",
   "execution_count": 5,
   "metadata": {},
   "outputs": [
    {
     "ename": "TypeError",
     "evalue": "no numeric data to plot",
     "output_type": "error",
     "traceback": [
      "\u001b[0;31m---------------------------------------------------------------------------\u001b[0m",
      "\u001b[0;31mTypeError\u001b[0m                                 Traceback (most recent call last)",
      "\u001b[0;32m/var/folders/qp/v28f50r15k54lhytg07_bqnm0000gn/T/ipykernel_22161/4046174277.py\u001b[0m in \u001b[0;36m<module>\u001b[0;34m\u001b[0m\n\u001b[1;32m     58\u001b[0m \u001b[0;34m\u001b[0m\u001b[0m\n\u001b[1;32m     59\u001b[0m \u001b[0;34m\u001b[0m\u001b[0m\n\u001b[0;32m---> 60\u001b[0;31m \u001b[0mprimary_energy_graph\u001b[0m\u001b[0;34m(\u001b[0m\u001b[0;34m)\u001b[0m\u001b[0;34m\u001b[0m\u001b[0;34m\u001b[0m\u001b[0m\n\u001b[0m",
      "\u001b[0;32m/var/folders/qp/v28f50r15k54lhytg07_bqnm0000gn/T/ipykernel_22161/4046174277.py\u001b[0m in \u001b[0;36mprimary_energy_graph\u001b[0;34m()\u001b[0m\n\u001b[1;32m      9\u001b[0m     \u001b[0mpivot_table\u001b[0m \u001b[0;34m=\u001b[0m \u001b[0mgrouped\u001b[0m\u001b[0;34m.\u001b[0m\u001b[0mpivot_table\u001b[0m\u001b[0;34m(\u001b[0m\u001b[0mvalues\u001b[0m\u001b[0;34m=\u001b[0m\u001b[0;34m'vflow_out'\u001b[0m\u001b[0;34m,\u001b[0m \u001b[0mindex\u001b[0m\u001b[0;34m=\u001b[0m\u001b[0;34m't_periods'\u001b[0m\u001b[0;34m,\u001b[0m \u001b[0mcolumns\u001b[0m\u001b[0;34m=\u001b[0m\u001b[0;34m'tech'\u001b[0m\u001b[0;34m)\u001b[0m\u001b[0;34m\u001b[0m\u001b[0;34m\u001b[0m\u001b[0m\n\u001b[1;32m     10\u001b[0m     \u001b[0;31m# create a bar chart\u001b[0m\u001b[0;34m\u001b[0m\u001b[0;34m\u001b[0m\u001b[0;34m\u001b[0m\u001b[0m\n\u001b[0;32m---> 11\u001b[0;31m     \u001b[0mfig_1\u001b[0m\u001b[0;34m=\u001b[0m\u001b[0mpivot_table\u001b[0m\u001b[0;34m.\u001b[0m\u001b[0mplot\u001b[0m\u001b[0;34m(\u001b[0m\u001b[0mkind\u001b[0m\u001b[0;34m=\u001b[0m\u001b[0;34m'bar'\u001b[0m\u001b[0;34m,\u001b[0m \u001b[0mstacked\u001b[0m\u001b[0;34m=\u001b[0m\u001b[0;32mTrue\u001b[0m\u001b[0;34m,\u001b[0m\u001b[0max\u001b[0m \u001b[0;34m=\u001b[0m \u001b[0madd_fig_1\u001b[0m\u001b[0;34m)\u001b[0m\u001b[0;34m\u001b[0m\u001b[0;34m\u001b[0m\u001b[0m\n\u001b[0m\u001b[1;32m     12\u001b[0m     \u001b[0mfig_1\u001b[0m\u001b[0;34m.\u001b[0m\u001b[0mlegend\u001b[0m\u001b[0;34m(\u001b[0m\u001b[0mloc\u001b[0m\u001b[0;34m=\u001b[0m\u001b[0;36m2\u001b[0m\u001b[0;34m,\u001b[0m \u001b[0mbbox_to_anchor\u001b[0m\u001b[0;34m=\u001b[0m\u001b[0;34m(\u001b[0m\u001b[0;36m1.05\u001b[0m\u001b[0;34m,\u001b[0m\u001b[0;36m1.0\u001b[0m\u001b[0;34m)\u001b[0m\u001b[0;34m,\u001b[0m\u001b[0mncol\u001b[0m\u001b[0;34m=\u001b[0m\u001b[0;36m2\u001b[0m\u001b[0;34m,\u001b[0m\u001b[0mborderaxespad\u001b[0m \u001b[0;34m=\u001b[0m \u001b[0;36m0.\u001b[0m\u001b[0;34m)\u001b[0m\u001b[0;34m\u001b[0m\u001b[0;34m\u001b[0m\u001b[0m\n\u001b[1;32m     13\u001b[0m     \u001b[0mfig_1\u001b[0m\u001b[0;34m.\u001b[0m\u001b[0mset_title\u001b[0m\u001b[0;34m(\u001b[0m\u001b[0;34m'Power Plants'\u001b[0m\u001b[0;34m)\u001b[0m\u001b[0;34m\u001b[0m\u001b[0;34m\u001b[0m\u001b[0m\n",
      "\u001b[0;32m~/opt/anaconda3/envs/environment/lib/python3.7/site-packages/pandas/plotting/_core.py\u001b[0m in \u001b[0;36m__call__\u001b[0;34m(self, *args, **kwargs)\u001b[0m\n\u001b[1;32m    970\u001b[0m                     \u001b[0mdata\u001b[0m\u001b[0;34m.\u001b[0m\u001b[0mcolumns\u001b[0m \u001b[0;34m=\u001b[0m \u001b[0mlabel_name\u001b[0m\u001b[0;34m\u001b[0m\u001b[0;34m\u001b[0m\u001b[0m\n\u001b[1;32m    971\u001b[0m \u001b[0;34m\u001b[0m\u001b[0m\n\u001b[0;32m--> 972\u001b[0;31m         \u001b[0;32mreturn\u001b[0m \u001b[0mplot_backend\u001b[0m\u001b[0;34m.\u001b[0m\u001b[0mplot\u001b[0m\u001b[0;34m(\u001b[0m\u001b[0mdata\u001b[0m\u001b[0;34m,\u001b[0m \u001b[0mkind\u001b[0m\u001b[0;34m=\u001b[0m\u001b[0mkind\u001b[0m\u001b[0;34m,\u001b[0m \u001b[0;34m**\u001b[0m\u001b[0mkwargs\u001b[0m\u001b[0;34m)\u001b[0m\u001b[0;34m\u001b[0m\u001b[0;34m\u001b[0m\u001b[0m\n\u001b[0m\u001b[1;32m    973\u001b[0m \u001b[0;34m\u001b[0m\u001b[0m\n\u001b[1;32m    974\u001b[0m     \u001b[0m__call__\u001b[0m\u001b[0;34m.\u001b[0m\u001b[0m__doc__\u001b[0m \u001b[0;34m=\u001b[0m \u001b[0m__doc__\u001b[0m\u001b[0;34m\u001b[0m\u001b[0;34m\u001b[0m\u001b[0m\n",
      "\u001b[0;32m~/opt/anaconda3/envs/environment/lib/python3.7/site-packages/pandas/plotting/_matplotlib/__init__.py\u001b[0m in \u001b[0;36mplot\u001b[0;34m(data, kind, **kwargs)\u001b[0m\n\u001b[1;32m     69\u001b[0m             \u001b[0mkwargs\u001b[0m\u001b[0;34m[\u001b[0m\u001b[0;34m\"ax\"\u001b[0m\u001b[0;34m]\u001b[0m \u001b[0;34m=\u001b[0m \u001b[0mgetattr\u001b[0m\u001b[0;34m(\u001b[0m\u001b[0max\u001b[0m\u001b[0;34m,\u001b[0m \u001b[0;34m\"left_ax\"\u001b[0m\u001b[0;34m,\u001b[0m \u001b[0max\u001b[0m\u001b[0;34m)\u001b[0m\u001b[0;34m\u001b[0m\u001b[0;34m\u001b[0m\u001b[0m\n\u001b[1;32m     70\u001b[0m     \u001b[0mplot_obj\u001b[0m \u001b[0;34m=\u001b[0m \u001b[0mPLOT_CLASSES\u001b[0m\u001b[0;34m[\u001b[0m\u001b[0mkind\u001b[0m\u001b[0;34m]\u001b[0m\u001b[0;34m(\u001b[0m\u001b[0mdata\u001b[0m\u001b[0;34m,\u001b[0m \u001b[0;34m**\u001b[0m\u001b[0mkwargs\u001b[0m\u001b[0;34m)\u001b[0m\u001b[0;34m\u001b[0m\u001b[0;34m\u001b[0m\u001b[0m\n\u001b[0;32m---> 71\u001b[0;31m     \u001b[0mplot_obj\u001b[0m\u001b[0;34m.\u001b[0m\u001b[0mgenerate\u001b[0m\u001b[0;34m(\u001b[0m\u001b[0;34m)\u001b[0m\u001b[0;34m\u001b[0m\u001b[0;34m\u001b[0m\u001b[0m\n\u001b[0m\u001b[1;32m     72\u001b[0m     \u001b[0mplot_obj\u001b[0m\u001b[0;34m.\u001b[0m\u001b[0mdraw\u001b[0m\u001b[0;34m(\u001b[0m\u001b[0;34m)\u001b[0m\u001b[0;34m\u001b[0m\u001b[0;34m\u001b[0m\u001b[0m\n\u001b[1;32m     73\u001b[0m     \u001b[0;32mreturn\u001b[0m \u001b[0mplot_obj\u001b[0m\u001b[0;34m.\u001b[0m\u001b[0mresult\u001b[0m\u001b[0;34m\u001b[0m\u001b[0;34m\u001b[0m\u001b[0m\n",
      "\u001b[0;32m~/opt/anaconda3/envs/environment/lib/python3.7/site-packages/pandas/plotting/_matplotlib/core.py\u001b[0m in \u001b[0;36mgenerate\u001b[0;34m(self)\u001b[0m\n\u001b[1;32m    284\u001b[0m     \u001b[0;32mdef\u001b[0m \u001b[0mgenerate\u001b[0m\u001b[0;34m(\u001b[0m\u001b[0mself\u001b[0m\u001b[0;34m)\u001b[0m\u001b[0;34m:\u001b[0m\u001b[0;34m\u001b[0m\u001b[0;34m\u001b[0m\u001b[0m\n\u001b[1;32m    285\u001b[0m         \u001b[0mself\u001b[0m\u001b[0;34m.\u001b[0m\u001b[0m_args_adjust\u001b[0m\u001b[0;34m(\u001b[0m\u001b[0;34m)\u001b[0m\u001b[0;34m\u001b[0m\u001b[0;34m\u001b[0m\u001b[0m\n\u001b[0;32m--> 286\u001b[0;31m         \u001b[0mself\u001b[0m\u001b[0;34m.\u001b[0m\u001b[0m_compute_plot_data\u001b[0m\u001b[0;34m(\u001b[0m\u001b[0;34m)\u001b[0m\u001b[0;34m\u001b[0m\u001b[0;34m\u001b[0m\u001b[0m\n\u001b[0m\u001b[1;32m    287\u001b[0m         \u001b[0mself\u001b[0m\u001b[0;34m.\u001b[0m\u001b[0m_setup_subplots\u001b[0m\u001b[0;34m(\u001b[0m\u001b[0;34m)\u001b[0m\u001b[0;34m\u001b[0m\u001b[0;34m\u001b[0m\u001b[0m\n\u001b[1;32m    288\u001b[0m         \u001b[0mself\u001b[0m\u001b[0;34m.\u001b[0m\u001b[0m_make_plot\u001b[0m\u001b[0;34m(\u001b[0m\u001b[0;34m)\u001b[0m\u001b[0;34m\u001b[0m\u001b[0;34m\u001b[0m\u001b[0m\n",
      "\u001b[0;32m~/opt/anaconda3/envs/environment/lib/python3.7/site-packages/pandas/plotting/_matplotlib/core.py\u001b[0m in \u001b[0;36m_compute_plot_data\u001b[0;34m(self)\u001b[0m\n\u001b[1;32m    451\u001b[0m         \u001b[0;31m# no non-numeric frames or series allowed\u001b[0m\u001b[0;34m\u001b[0m\u001b[0;34m\u001b[0m\u001b[0;34m\u001b[0m\u001b[0m\n\u001b[1;32m    452\u001b[0m         \u001b[0;32mif\u001b[0m \u001b[0mis_empty\u001b[0m\u001b[0;34m:\u001b[0m\u001b[0;34m\u001b[0m\u001b[0;34m\u001b[0m\u001b[0m\n\u001b[0;32m--> 453\u001b[0;31m             \u001b[0;32mraise\u001b[0m \u001b[0mTypeError\u001b[0m\u001b[0;34m(\u001b[0m\u001b[0;34m\"no numeric data to plot\"\u001b[0m\u001b[0;34m)\u001b[0m\u001b[0;34m\u001b[0m\u001b[0;34m\u001b[0m\u001b[0m\n\u001b[0m\u001b[1;32m    454\u001b[0m \u001b[0;34m\u001b[0m\u001b[0m\n\u001b[1;32m    455\u001b[0m         \u001b[0mself\u001b[0m\u001b[0;34m.\u001b[0m\u001b[0mdata\u001b[0m \u001b[0;34m=\u001b[0m \u001b[0mnumeric_data\u001b[0m\u001b[0;34m.\u001b[0m\u001b[0mapply\u001b[0m\u001b[0;34m(\u001b[0m\u001b[0mself\u001b[0m\u001b[0;34m.\u001b[0m\u001b[0m_convert_to_ndarray\u001b[0m\u001b[0;34m)\u001b[0m\u001b[0;34m\u001b[0m\u001b[0;34m\u001b[0m\u001b[0m\n",
      "\u001b[0;31mTypeError\u001b[0m: no numeric data to plot"
     ]
    },
    {
     "data": {
      "image/png": "[encoded data removed]",
      "text/plain": [
       "<Figure size 2000x600 with 2 Axes>"
      ]
     },
     "metadata": {},
     "output_type": "display_data"
    }
   ],
   "source": [
    "def primary_energy_graph():\n",
    "    #Graph Structure\n",
    "    fig, (add_fig_1, add_fig_2) = plt.subplots(1, 2, figsize=(20, 6))\n",
    "\n",
    "    df = pd.read_sql(\"SELECT sector,t_periods,tech,vflow_out FROM Output_VFlow_Out\", con)\n",
    "    powerplant_df = df[df['sector'] == 'PowerPlants']\n",
    "    grouped = powerplant_df.groupby(['t_periods','tech']).agg({'vflow_out': np.sum})\n",
    "    # pivot the table to have emission types as columns and periods as rows\n",
    "    pivot_table = grouped.pivot_table(values='vflow_out', index='t_periods', columns='tech')\n",
    "    # create a bar chart\n",
    "    fig_1=pivot_table.plot(kind='bar', stacked=True,ax = add_fig_1)\n",
    "    fig_1.legend(loc=2, bbox_to_anchor=(1.05,1.0),ncol=2,borderaxespad = 0.)  \n",
    "    fig_1.set_title('Power Plants')\n",
    "\n",
    "    powerplant_df['tech'] = powerplant_df['tech'].str.split('_').str[1]\n",
    "    powerplant_df['source'] = ''\n",
    "    powerplant_df.loc[powerplant_df['tech'] == 'BIOIGCC', 'source'] = 'BIOIGCC'\n",
    "    powerplant_df.loc[powerplant_df['tech'].str.slice(stop=4) == 'COAL', 'source'] = 'Coal'\n",
    "    powerplant_df.loc[powerplant_df['tech'].str.slice(stop=3) == 'GEO', 'source'] = 'Geothermal'\n",
    "    powerplant_df.loc[powerplant_df['tech'].str.slice(stop=3) == 'HYD', 'source'] = 'Hydropower'\n",
    "    powerplant_df.loc[powerplant_df['tech'].str.slice(stop=3) == 'NGA', 'source'] = 'Nature Gas'\n",
    "    powerplant_df.loc[powerplant_df['tech'].str.slice(stop=5) == 'SOLPV', 'source'] = 'Solor Power'\n",
    "    powerplant_df.loc[powerplant_df['tech'].str.slice(stop=5) == 'SOLTH', 'source'] = 'Solor Thermal'\n",
    "    powerplant_df.loc[powerplant_df['tech'].str.slice(stop=3) == 'WND', 'source'] = 'Wind Farm'\n",
    "    powerplant_df.loc[powerplant_df['tech'].str.slice(stop=3) == 'URN', 'source'] = 'Uranium'\n",
    "    powerplant_df.loc[powerplant_df['tech'].str.slice(stop=5) == 'BECCS', 'source'] = 'BECCS'\n",
    "    powerplant_df.loc[powerplant_df['tech'].str.slice(stop=4) == 'Batt', 'source'] = 'Battery Storage'\n",
    "    powerplant_df.loc[powerplant_df['tech'].str.slice(stop=3) == 'STO', 'source'] = 'Hydrogen'\n",
    "    powerplant_df.loc[powerplant_df['tech'].str.slice(stop=4) == 'H2CC', 'source'] = 'Hydrogen'\n",
    "\n",
    "    grouped = powerplant_df.groupby(['t_periods','source']).agg({'vflow_out': np.sum})\n",
    "    pivot_table = grouped.pivot_table(values='vflow_out', index='t_periods', columns='source')\n",
    "    fig_2=pivot_table.plot(kind='bar', stacked=True,ax = add_fig_2)\n",
    "    fig_2.legend(loc=2, bbox_to_anchor=(1.05,1.0),ncol=2,borderaxespad = 0.)  \n",
    "    fig_2.set_title('Power Source')\n",
    "\n",
    "    #powerplant_df = df[df['sector'] == 'electric']\n",
    "    #grouped = powerplant_df.groupby(['t_periods','tech']).agg({'vflow_out': np.sum})\n",
    "    ## pivot the table to have emission types as columns and periods as rows\n",
    "    #pivot_table = grouped.pivot_table(values='vflow_out', index='t_periods', columns='tech')\n",
    "    ## create a bar chart\n",
    "    #fig_2=pivot_table.plot(kind='bar', stacked=True,ax = add_fig_2)\n",
    "    #fig_2.legend(loc=2, bbox_to_anchor=(1.05,1.0), ncol=2, borderaxespad=0.0)\n",
    "    #ax2.set_title('Electric')\n",
    "\n",
    "\n",
    "    # set the title and axis labels\n",
    "    fig.suptitle('Primary Energy Breakdown', fontsize=16)\n",
    "    fig.text(0.5, 0.04, 'Period', ha='center', fontsize=12)\n",
    "    fig.text(0.04, 0.5, 'Emission Amount', va='center', rotation='vertical', fontsize=12)\n",
    "\n",
    "    # adjust the spacing between subplots\n",
    "    fig.subplots_adjust(wspace=0.8)\n",
    "\n",
    "\n",
    "    # show the chart\n",
    "    plt.show()\n",
    "\n",
    "\n",
    "primary_energy_graph()"
   ]
  },
  {
   "cell_type": "code",
   "execution_count": null,
   "metadata": {},
   "outputs": [
    {
     "data": {
      "application/vnd.jupyter.widget-view+json": {
       "model_id": "12194f95a9f34fb685b192068bc3af8d",
       "version_major": 2,
       "version_minor": 0
      },
      "text/plain": [
       "VBox(children=(HBox(children=(Select(description='Emission_Type', layout=Layout(height='100px', width='200px')…"
      ]
     },
     "metadata": {},
     "output_type": "display_data"
    }
   ],
   "source": [
    "def sector_final_breakdown(sector_type):\n",
    "    df = pd.read_sql(\"SELECT sector,t_periods,tech,vflow_out FROM Output_VFlow_Out\", con)\n",
    "    sector_df = df[df['sector'] == sector_type]\n",
    "    grouped = sector_df.groupby(['t_periods','tech']).agg({'vflow_out': np.sum})\n",
    "\n",
    "    pivot_table = grouped.pivot_table(values='vflow_out', index='t_periods', columns='tech')\n",
    "    # create a bar chart\n",
    "    fig=pivot_table.plot(kind='bar', stacked=True)\n",
    "    fig.legend(loc=2, bbox_to_anchor=(1.05,1.0),ncol=2,borderaxespad = 0.)\n",
    "    plt.show()\n",
    "\n",
    "def select_emission_comm():\n",
    "    df = pd.read_sql(\"SELECT * FROM technologies\", con)\n",
    "    select_options = df[\"sector\"].unique()  \n",
    "    layout = widgets.Layout(width='200px', height = '100px') \n",
    "    w1 = widgets.Select(options=np.sort(select_options),description='Emission_Type',layout=layout)\n",
    "    w = widgets.interactive(sector_final_breakdown,sector_type = w1)\n",
    "    controls_rows(w)\n",
    "\n",
    "def controls_rows(w):\n",
    "    controls = HBox(w.children[:-1], layout = Layout(flex_flow='row wrap', width='max-content'))\n",
    "    output = w.children[-1]\n",
    "    display(VBox([controls, output],  layout = Layout(flex_flow='columns wrap', width='max-content', height='max-content')))\n",
    "\n",
    "select_emission_comm()"
   ]
  },
  {
   "cell_type": "markdown",
   "metadata": {},
   "source": [
    "### Technology/commodity look-up tool\n",
    "Use the tool below to provide a description for any technology or commodity within the database. Type the commodity or technology name in the box below to view its description."
   ]
  },
  {
   "cell_type": "code",
   "execution_count": null,
   "metadata": {},
   "outputs": [
    {
     "data": {
      "application/vnd.jupyter.widget-view+json": {
       "model_id": "bbf107de7dbf403a9d2d6904f40cbdfc",
       "version_major": 2,
       "version_minor": 0
      },
      "text/plain": [
       "Text(value='ELC')"
      ]
     },
     "metadata": {},
     "output_type": "display_data"
    },
    {
     "data": {
      "application/vnd.jupyter.widget-view+json": {
       "model_id": "3744c05f24dc4515a95a37cc4b7dbcf6",
       "version_major": 2,
       "version_minor": 0
      },
      "text/plain": [
       "Output()"
      ]
     },
     "metadata": {},
     "output_type": "display_data"
    }
   ],
   "source": [
    "w = widgets.Text(value='ELC')\n",
    "display(w)\n",
    "def f(w):\n",
    "    df = pd.read_sql(\"SELECT * FROM commodities WHERE comm_name='\" + w + \"'\", con)\n",
    "    if len(df)==0:\n",
    "        df = pd.read_sql(\"SELECT * FROM technologies WHERE tech='\" + w + \"'\", con)\n",
    "\n",
    "    if len(df)>0:\n",
    "        try:\n",
    "            display(Markdown(df['comm_desc'].values[0].replace('#', '').strip()))\n",
    "        except:\n",
    "            display(Markdown(df['tech_desc'].values[0].replace('#', '').strip()))\n",
    "    else:\n",
    "        print('')\n",
    "out = widgets.interactive_output(f, {'w': w})\n",
    "display(out)"
   ]
  }
 ],
 "metadata": {
  "kernelspec": {
   "display_name": "environment",
   "language": "python",
   "name": "python3"
  },
  "language_info": {
   "codemirror_mode": {
    "name": "ipython",
    "version": 3
   },
   "file_extension": ".py",
   "mimetype": "text/x-python",
   "name": "python",
   "nbconvert_exporter": "python",
   "pygments_lexer": "ipython3",
   "version": "3.7.3"
  },
  "orig_nbformat": 4,
  "vscode": {
   "interpreter": {
    "hash": "fe90bc35d8ea1d404304accc9879f315b36ace5f825b43c569c37d0125bad132"
   }
  }
 },
 "nbformat": 4,
 "nbformat_minor": 2
}
