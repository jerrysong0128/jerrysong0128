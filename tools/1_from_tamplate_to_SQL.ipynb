{
 "cells": [
  {
   "cell_type": "code",
   "execution_count": 43,
   "metadata": {},
   "outputs": [],
   "source": [
    "import pandas as pd\n",
    "import datetime\n",
    "import os\n",
    "excel_file='/Users/jerrysong/Study_Grad/Nankai_Research_with_Python/Nankai_Research/Temoa_2.0_collection/data_files/Self_MaAp/import/Temoa_Excel_Template.xlsx'\n",
    "\n",
    "# Get current date and time\n",
    "now = datetime.datetime.now()\n",
    "# Format date and time as string\n",
    "#date_string = now.strftime(\"%Y-%m-%d_%H-%M-%S\")\n",
    "# Define filename with statement and timestamp\n",
    "#filename = f\"{date_string}.sql\"\n",
    "#sql_path='/Users/jerrysong/Study_Grad/Nankai_Research_with_Python/Nankai_Research/Temoa_2.0_collection/data_files/Self_MaAp/import'\n",
    "# Define full file path with folder and filename\n",
    "#sql_file = os.path.join(sql_path, filename)\n",
    "\n",
    "sql_file='/Users/jerrysong/Study_Grad/Nankai_Research_with_Python/Nankai_Research/Temoa_2.0_collection/data_files/Self_MaAp/import/sql_import.sql'"
   ]
  },
  {
   "attachments": {},
   "cell_type": "markdown",
   "metadata": {},
   "source": [
    "# Technology"
   ]
  },
  {
   "cell_type": "code",
   "execution_count": 44,
   "metadata": {},
   "outputs": [],
   "source": [
    "# Read the 'Technology' sheet from 'Temoa_Excel_Template.xlsx' into a pandas dataframe\n",
    "df = pd.read_excel(excel_file, sheet_name='Technology')\n",
    "\n",
    "# Open the SQL file for writing\n",
    "with open(sql_file, 'w') as f:\n",
    "    # Loop through each row in the dataframe\n",
    "    for index, row in df.iterrows():\n",
    "        # Check if the Tech_Code column is null\n",
    "        if pd.isna(row['Tech_Code']):\n",
    "            continue\n",
    "        # Extract data from the row and create an SQL insert statement\n",
    "        tech_code = row['Tech_Code']\n",
    "        flag = row['Flag']\n",
    "        sector = row['Sector']\n",
    "        tech_desc = row['Tech_Desc']\n",
    "        sql_statement = \"INSERT INTO `technologies` VALUES ('{}','{}','{}','{}','');\\n\".format(tech_code, flag, sector, tech_desc)\n",
    "        # Write the SQL statement to the file\n",
    "        f.write(sql_statement)"
   ]
  },
  {
   "attachments": {},
   "cell_type": "markdown",
   "metadata": {},
   "source": [
    "# Commodity"
   ]
  },
  {
   "cell_type": "code",
   "execution_count": 45,
   "metadata": {},
   "outputs": [],
   "source": [
    "# Read the 'Commodity' sheet from 'Temoa_Excel_Template.xlsx' into a pandas dataframe\n",
    "df = pd.read_excel(excel_file, sheet_name='Commodity')\n",
    "\n",
    "# Open the SQL file for writing\n",
    "with open(sql_file, 'a') as f:\n",
    "    # Loop through each row in the dataframe and print out the SQL insert statement\n",
    "    for index, row in df.iterrows():\n",
    "        com_code = row['Com_Code']\n",
    "        if pd.isna(com_code):\n",
    "            continue  # Skip this row if 'Com_Code' is null\n",
    "        flag = row['Flag']\n",
    "        com_desc = row['Com_Desc']\n",
    "        sql_statement = \"INSERT INTO `commodities` VALUES ('{}','{}','{}');\".format(com_code, flag, com_desc)\n",
    "        f.write(sql_statement + '\\n')  # Write the SQL statement to the file"
   ]
  },
  {
   "attachments": {},
   "cell_type": "markdown",
   "metadata": {},
   "source": [
    "# Efficiency"
   ]
  },
  {
   "cell_type": "code",
   "execution_count": 46,
   "metadata": {},
   "outputs": [],
   "source": [
    "# Read the 'Efficiency' sheet from 'Temoa_Excel_Template.xlsx' into a pandas dataframe\n",
    "df = pd.read_excel(excel_file, sheet_name='Efficiency')\n",
    "\n",
    "# Open the SQL file for writing\n",
    "with open(sql_file, 'a') as f:\n",
    "    # Loop through each row in the dataframe and print out the SQL insert statement\n",
    "    for index, row in df.iterrows():\n",
    "        tech_code = row['Tech_Code']\n",
    "        if pd.isna(tech_code):\n",
    "             continue  # Skip this row if 'tech_code' is null\n",
    "        # open the SQL file in append mode\n",
    "        # get the values from the DataFrame row\n",
    "        region = row['Region']\n",
    "        tech_code = row['Tech_Code']\n",
    "        vintage = int(row['Vintage'])\n",
    "        com_code_input = row['Com_Code_Input']\n",
    "        com_code_output = row['Com_Code_Output']\n",
    "        efficiency = row['Efficiency']\n",
    "        if pd.isna(efficiency):\n",
    "             continue  # Skip this row if 'efficiency' is null       \n",
    "        tech_desc = row['Tech_Desc']\n",
    "        sql_statement = \"INSERT INTO `Efficiency` VALUES ('{}','{}','{}',{},'{}',{},'{}');\".format(region, com_code_input, tech_code, vintage, com_code_output, efficiency, tech_desc)\n",
    "        f.write(sql_statement + '\\n')  # Write the SQL statement to the file\n"
   ]
  },
  {
   "attachments": {},
   "cell_type": "markdown",
   "metadata": {},
   "source": [
    "# ExistingCapacity"
   ]
  },
  {
   "cell_type": "code",
   "execution_count": 47,
   "metadata": {},
   "outputs": [],
   "source": [
    "# Read the 'ExistingCapacity' sheet from Excel file into a pandas dataframe\n",
    "df = pd.read_excel(excel_file, sheet_name='ExistingCapacity')\n",
    "\n",
    "# Open the SQL file for writing\n",
    "with open(sql_file, 'a') as f:\n",
    "    # Loop through each row in the dataframe and print out the SQL insert statement\n",
    "    for index, row in df.iterrows():\n",
    "        conversion_phase = row['Conversion Phase']\n",
    "        regions = row['regions']\n",
    "        tech = row['tech']\n",
    "        if pd.isna(tech):\n",
    "            continue  # Skip this row if any of these columns is null\n",
    "        vintage = row['vintage']\n",
    "        exist_cap = row['exist_cap']\n",
    "        exist_cap_units = row['exist_cap_units']\n",
    "        exist_cap_notes = row['exist_cap_notes']\n",
    "        sql_statement = \"INSERT INTO `ExistingCapacity` VALUES ('{}','{}','{}','{}','{}','{}');\".format(regions, tech, vintage, exist_cap, exist_cap_units, exist_cap_notes)\n",
    "        f.write(sql_statement + '\\n')  # Write the SQL statement to the file"
   ]
  },
  {
   "attachments": {},
   "cell_type": "markdown",
   "metadata": {},
   "source": [
    "# CostFixed"
   ]
  },
  {
   "cell_type": "code",
   "execution_count": 48,
   "metadata": {},
   "outputs": [],
   "source": [
    "# Read the 'CostFixed' sheet from the Excel file into a pandas dataframe\n",
    "df = pd.read_excel(excel_file, sheet_name='CostFixed')\n",
    "\n",
    "# Open the SQL file for writing\n",
    "with open(sql_file, 'a') as f:\n",
    "    # Loop through each row in the dataframe and print out the SQL insert statements\n",
    "    for index, row in df.iterrows():\n",
    "        regions = row['regions']\n",
    "        tech = row['tech']\n",
    "        vintage = row['vintage']\n",
    "        cost_fixed_units = row['cost_fixed_units']\n",
    "        cost_fixed_notes = row['cost_fixed_notes']\n",
    "        for period in range(2025, 2060, 5):\n",
    "            cost_fixed = row[f'P{period}']\n",
    "            if pd.isna(cost_fixed):\n",
    "                continue  # Skip this row if any of these columns is null\n",
    "            sql_statement = \"INSERT INTO `CostFixed` VALUES ('{}', {}, '{}', {}, {}, '{}', '{}');\".format(regions, period, tech, vintage, cost_fixed, cost_fixed_units, cost_fixed_notes)\n",
    "            f.write(sql_statement + '\\n')  # Write the SQL statement to the file."
   ]
  },
  {
   "attachments": {},
   "cell_type": "markdown",
   "metadata": {},
   "source": [
    "# CostVariable"
   ]
  },
  {
   "cell_type": "code",
   "execution_count": 49,
   "metadata": {},
   "outputs": [],
   "source": [
    "# Read the 'CostVariable' sheet from the Excel file into a pandas dataframe\n",
    "df = pd.read_excel(excel_file, sheet_name='CostVariable')\n",
    "\n",
    "# Open the SQL file for writing\n",
    "with open(sql_file, 'a') as f:\n",
    "    # Loop through each row in the dataframe and print out the SQL insert statements\n",
    "    for index, row in df.iterrows():\n",
    "        regions = row['regions']\n",
    "        tech = row['tech']\n",
    "        vintage = row['vintage']\n",
    "        cost_variable_units = row['cost_variable_units']\n",
    "        cost_variable_notes = row['cost_variable_notes']\n",
    "        for period in range(2025, 2060, 5):\n",
    "            cost_variable = row[f'P{period}']\n",
    "            if pd.isna(cost_variable):\n",
    "                continue  # Skip this row if any of these columns is null\n",
    "            sql_statement = \"INSERT INTO `CostVariable` VALUES ('{}', {}, '{}', {}, {}, '{}', '{}');\".format(regions, period, tech, vintage, cost_variable, cost_variable_units, cost_variable_notes)\n",
    "            f.write(sql_statement + '\\n')  # Write the SQL statement to the file.\n"
   ]
  },
  {
   "attachments": {},
   "cell_type": "markdown",
   "metadata": {},
   "source": [
    "# CostInvest"
   ]
  },
  {
   "cell_type": "code",
   "execution_count": 50,
   "metadata": {},
   "outputs": [],
   "source": [
    "# Read the 'CostInvest' sheet from the Excel file into a pandas dataframe\n",
    "df = pd.read_excel(excel_file, sheet_name='CostInvest')\n",
    "\n",
    "# Open the SQL file for writing\n",
    "with open(sql_file, 'a') as f:\n",
    "    # Loop through each row in the dataframe and print out the SQL insert statement\n",
    "    for index, row in df.iterrows():\n",
    "        conversion_phase = row['Conversion Phase']\n",
    "        regions = row['regions']\n",
    "        tech = row['tech']\n",
    "        vintage = row['vintage']\n",
    "        cost_invest = row['cost_invest']\n",
    "        cost_invest_units = row['cost_invest_units']\n",
    "        cost_invest_notes = row['cost_invest_notes']\n",
    "        if pd.isna(regions) or pd.isna(tech) or pd.isna(vintage):\n",
    "            continue  # Skip this row if any of these columns is null\n",
    "        sql_statement = \"INSERT INTO `CostInvest` VALUES ('{}','{}',{},{},'{}','{}');\".format(regions, tech, vintage, cost_invest, cost_invest_units, cost_invest_notes)\n",
    "        f.write(sql_statement + '\\n')  # Write the SQL statement to the fi"
   ]
  },
  {
   "attachments": {},
   "cell_type": "markdown",
   "metadata": {},
   "source": [
    "# GrowthRateSeed"
   ]
  },
  {
   "cell_type": "code",
   "execution_count": 51,
   "metadata": {},
   "outputs": [],
   "source": [
    "# Read the 'GrowthRateSeed' sheet from 'Temoa_Excel_Template.xlsx' into a pandas dataframe\n",
    "df = pd.read_excel(excel_file, sheet_name='GrowthRateSeed')\n",
    "\n",
    "# Open the SQL file for writing\n",
    "with open(sql_file, 'a') as f:\n",
    "    # Loop through each row in the dataframe\n",
    "    for index, row in df.iterrows():\n",
    "        # Check if the Tech_Code column is null\n",
    "        if pd.isna(row['tech']):\n",
    "            continue\n",
    "        # Extract data from the row and create an SQL insert statement\n",
    "        tech = row['tech']\t\t\n",
    "        regions = row['regions']\n",
    "        growthrate_seed = row['growthrate_seed']\n",
    "        growthrate_seed_units = row['growthrate_seed_units']\n",
    "        growthrate_seed_notes = row['growthrate_seed_notes']\n",
    "        sql_statement = \"INSERT INTO `GrowthRateSeed` VALUES ('{}','{}',{},'{}','{}');\\n\".format(regions, tech, growthrate_seed, growthrate_seed_units,growthrate_seed_notes)\n",
    "        # Write the SQL statement to the file\n",
    "        f.write(sql_statement)"
   ]
  },
  {
   "attachments": {},
   "cell_type": "markdown",
   "metadata": {},
   "source": [
    "# GrowthRateMax"
   ]
  },
  {
   "cell_type": "code",
   "execution_count": 52,
   "metadata": {},
   "outputs": [],
   "source": [
    "# Read the 'GrowthRateMax' sheet from 'Temoa_Excel_Template.xlsx' into a pandas dataframe\n",
    "df = pd.read_excel(excel_file, sheet_name='GrowthRateMax')\n",
    "\n",
    "# Open the SQL file for writing\n",
    "with open(sql_file, 'a') as f:\n",
    "    # Loop through each row in the dataframe\n",
    "    for index, row in df.iterrows():\n",
    "        # Check if the Tech_Code column is null\n",
    "        if pd.isna(row['tech']):\n",
    "            continue\n",
    "        # Extract data from the row and create an SQL insert statement\n",
    "        tech = row['tech']\t\t\n",
    "        regions = row['regions']\n",
    "        growthrate_max = row['growthrate_max']\n",
    "        growthrate_max_notes = row['growthrate_max_notes']\n",
    "        sql_statement = \"INSERT INTO `GrowthRateMax` VALUES ('{}','{}',{},'{}');\\n\".format(regions, tech, growthrate_max, growthrate_max_notes)\n",
    "        # Write the SQL statement to the file\n",
    "        f.write(sql_statement)"
   ]
  },
  {
   "attachments": {},
   "cell_type": "markdown",
   "metadata": {},
   "source": [
    "# LifetimeTech"
   ]
  },
  {
   "cell_type": "code",
   "execution_count": 53,
   "metadata": {},
   "outputs": [],
   "source": [
    "# Read the 'LifetimeTech' sheet from 'Temoa_Excel_Template.xlsx' into a pandas dataframe\n",
    "df = pd.read_excel(excel_file, sheet_name='LifetimeTech')\n",
    "\n",
    "# Open the SQL file for writing\n",
    "with open(sql_file, 'a') as f:\n",
    "    # Loop through each row in the dataframe\n",
    "    for index, row in df.iterrows():\n",
    "        # Check if the Tech_Code column is null\n",
    "        if pd.isna(row['tech']):\n",
    "            continue\n",
    "        # Extract data from the row and create an SQL insert statement\n",
    "        tech = row['tech']\t\t\n",
    "        regions = row['regions']\n",
    "        life = row['life']\t\n",
    "        life_notes = row['life_notes']\n",
    "        sql_statement = \"INSERT INTO `LifetimeTech` VALUES ('{}','{}',{},'{}');\\n\".format(regions, tech, life, life_notes)\n",
    "        # Write the SQL statement to the file\n",
    "        f.write(sql_statement)"
   ]
  },
  {
   "attachments": {},
   "cell_type": "markdown",
   "metadata": {},
   "source": [
    "# CapacityToActivity"
   ]
  },
  {
   "cell_type": "code",
   "execution_count": 54,
   "metadata": {},
   "outputs": [],
   "source": [
    "# Read the 'Capacity2Activity' sheet from 'Temoa_Excel_Template.xlsx' into a pandas dataframe\n",
    "df = pd.read_excel(excel_file, sheet_name='Capacity2Activity')\n",
    "\n",
    "# Open the SQL file for writing\n",
    "with open(sql_file, 'a') as f:\n",
    "    # Loop through each row in the dataframe\n",
    "    for index, row in df.iterrows():\n",
    "        # Check if the Tech_Code column is null\n",
    "        if pd.isna(row['tech']):\n",
    "            continue\n",
    "        # Extract data from the row and create an SQL insert statement\n",
    "        tech = row['tech']\t\t\n",
    "        regions = row['regions']\n",
    "        c2a = row['c2a']\t\n",
    "        c2a_notes = row['c2a_notes']\n",
    "        sql_statement = \"INSERT INTO `CapacityToActivity` VALUES ('{}','{}',{},'{}');\\n\".format(regions, tech, c2a, c2a_notes)\n",
    "        # Write the SQL statement to the file\n",
    "        f.write(sql_statement)"
   ]
  },
  {
   "attachments": {},
   "cell_type": "markdown",
   "metadata": {},
   "source": [
    "# MaxCapacity"
   ]
  },
  {
   "cell_type": "code",
   "execution_count": 55,
   "metadata": {},
   "outputs": [],
   "source": [
    "# Read the 'MaxCapacity' sheet from the Excel file into a pandas dataframe\n",
    "df = pd.read_excel(excel_file, sheet_name='MaxCapacity')\n",
    "\n",
    "# Open the SQL file for writing\n",
    "with open(sql_file, 'a') as f:\n",
    "    # Loop through each row in the dataframe and print out the SQL insert statements\n",
    "    for index, row in df.iterrows():\n",
    "        regions = row['regions']\n",
    "        tech = row['tech']\n",
    "        maxcap_units = row['maxcap_units']\n",
    "        maxcap_notes = row['maxcap_notes']\n",
    "        for period in range(2025, 2060, 5):\n",
    "            maxcap = row[f'P{period}']\n",
    "            if pd.isna(maxcap):\n",
    "                continue  # Skip this row if any of these columns is null\n",
    "            sql_statement = \"INSERT INTO `MaxCapacity` VALUES ('{}', {}, '{}', {}, '{}', '{}');\".format(regions, period, tech, maxcap, maxcap_units, maxcap_notes)\n",
    "            f.write(sql_statement + '\\n')  # Write the SQL statement to the file.\n"
   ]
  },
  {
   "attachments": {},
   "cell_type": "markdown",
   "metadata": {},
   "source": [
    "# MinCapacity"
   ]
  },
  {
   "cell_type": "code",
   "execution_count": 56,
   "metadata": {},
   "outputs": [],
   "source": [
    "# Read the 'MinCapacity' sheet from the Excel file into a pandas dataframe\n",
    "df = pd.read_excel(excel_file, sheet_name='MinCapacity')\n",
    "\n",
    "# Open the SQL file for writing\n",
    "with open(sql_file, 'a') as f:\n",
    "    # Loop through each row in the dataframe and print out the SQL insert statements\n",
    "    for index, row in df.iterrows():\n",
    "        regions = row['regions']\n",
    "        tech = row['tech']\n",
    "        mincap_units = row['mincap_units']\n",
    "        mincap_notes = row['mincap_notes']\n",
    "        for period in range(2025, 2060, 5):\n",
    "            mincap = row[f'P{period}']\n",
    "            if pd.isna(mincap):\n",
    "                continue  # Skip this row if any of these columns is null\n",
    "            sql_statement = \"INSERT INTO `MinCapacity` VALUES ('{}', {}, '{}', {}, '{}', '{}');\".format(regions, period, tech, mincap, maxcap_units, mincap_notes)\n",
    "            f.write(sql_statement + '\\n')  # Write the SQL statement to the file.\n"
   ]
  },
  {
   "attachments": {},
   "cell_type": "markdown",
   "metadata": {},
   "source": [
    "# MinActivity"
   ]
  },
  {
   "cell_type": "code",
   "execution_count": 57,
   "metadata": {},
   "outputs": [],
   "source": [
    "# Read the 'MinActivity' sheet from the Excel file into a pandas dataframe\n",
    "df = pd.read_excel(excel_file, sheet_name='MinActivity')\n",
    "\n",
    "# Open the SQL file for writing\n",
    "with open(sql_file, 'a') as f:\n",
    "    # Loop through each row in the dataframe and print out the SQL insert statements\n",
    "    for index, row in df.iterrows():\n",
    "        regions = row['regions']\n",
    "        tech = row['tech']\n",
    "        minact_units = row['minact_units']\n",
    "        minact_notes = row['minact_notes']\n",
    "        for period in range(2025, 2060, 5):\n",
    "            minact = row[f'P{period}']\n",
    "            if pd.isna(minact):\n",
    "                continue  # Skip this row if any of these columns is null\n",
    "            sql_statement = \"INSERT INTO `MinActivity` VALUES ('{}', {}, '{}', {}, '{}', '{}');\".format(regions, period, tech, minact, minact_units, minact_notes)\n",
    "            f.write(sql_statement + '\\n')  # Write the SQL statement to the file."
   ]
  },
  {
   "attachments": {},
   "cell_type": "markdown",
   "metadata": {},
   "source": [
    "# MaxActivity"
   ]
  },
  {
   "cell_type": "code",
   "execution_count": 58,
   "metadata": {},
   "outputs": [],
   "source": [
    "# Read the 'MaxActivity' sheet from the Excel file into a pandas dataframe\n",
    "df = pd.read_excel(excel_file, sheet_name='MaxActivity')\n",
    "\n",
    "# Open the SQL file for writing\n",
    "with open(sql_file, 'a') as f:\n",
    "    # Loop through each row in the dataframe and print out the SQL insert statements\n",
    "    for index, row in df.iterrows():\n",
    "        regions = row['regions']\n",
    "        tech = row['tech']\n",
    "        maxact_units = row['maxact_units']\n",
    "        maxact_notes = row['maxact_notes']\n",
    "        for period in range(2025, 2060, 5):\n",
    "            maxact = row[f'P{period}']\n",
    "            if pd.isna(maxact):\n",
    "                continue  # Skip this row if any of these columns is null\n",
    "            sql_statement = \"INSERT INTO `MaxActivity` VALUES ('{}', {}, '{}', {}, '{}', '{}');\".format(regions, period, tech, maxact, maxact_units, maxact_notes)\n",
    "            f.write(sql_statement + '\\n')  # Write the SQL statement to the file."
   ]
  },
  {
   "attachments": {},
   "cell_type": "markdown",
   "metadata": {},
   "source": [
    "# EmissionsActivity"
   ]
  },
  {
   "cell_type": "code",
   "execution_count": 59,
   "metadata": {},
   "outputs": [],
   "source": [
    "# Read the 'EmissionsActivity' sheet from the Excel file into a pandas dataframe\n",
    "df = pd.read_excel(excel_file, sheet_name='EmissionsActivity')\n",
    "\n",
    "# Open the SQL file for writing\n",
    "with open(sql_file, 'a') as f:\n",
    "    # Loop through each row in the dataframe and print out the SQL insert statements\n",
    "    for index, row in df.iterrows():\n",
    "        regions = row['regions']\n",
    "        emis_comm = row['emis_comm']\n",
    "        input_comm = row['input_comm']\n",
    "        tech = row['tech']\n",
    "        if pd.isna(row['tech']):\n",
    "            continue\n",
    "        vintage = row['vintage']\n",
    "        output_comm = row['output_comm']\n",
    "        emis_act = row['emis_act']\n",
    "        emis_act_units = row['emis_act_units']\n",
    "        emis_act_notes = row['emis_act_notes']        \n",
    "        sql_statement = \"INSERT INTO `EmissionActivity` VALUES ('{}', '{}', '{}','{}',{},'{}',{},'{}','{}');\".format(regions, emis_comm, input_comm, tech, vintage, output_comm, emis_act, emis_act_units, emis_act_notes)\n",
    "        f.write(sql_statement + '\\n')  # Write the SQL statement to the file."
   ]
  },
  {
   "attachments": {},
   "cell_type": "markdown",
   "metadata": {},
   "source": [
    "# Demand"
   ]
  },
  {
   "cell_type": "code",
   "execution_count": 60,
   "metadata": {},
   "outputs": [],
   "source": [
    "df = pd.read_excel(excel_file, sheet_name='Demand')\n",
    "\n",
    "# Open the SQL file for writing\n",
    "with open(sql_file, 'a') as f:\n",
    "    # Loop through each row in the dataframe and print out the SQL insert statements\n",
    "    for index, row in df.iterrows():\n",
    "        regions = row['regions']\n",
    "        demand_comm = row['demand_comm']\n",
    "        if pd.isna(demand_comm):\n",
    "            continue  # Skip this row if any of these columns is null\n",
    "        demand_units = row['demand_units']\n",
    "        demand_notes = row['demand_notes']\n",
    "        for period in range(2025, 2060, 5):\n",
    "            demand = row[f'P{period}']\n",
    "            if pd.isna(demand):\n",
    "                continue  # Skip this row if any of these columns is null\n",
    "            sql_statement = \"INSERT INTO `Demand` VALUES ('{}', {}, '{}', {}, '{}', '{}');\".format(regions, period, demand_comm, demand, demand_units, demand_notes)\n",
    "            f.write(sql_statement + '\\n')  # Write the SQL statement to the file."
   ]
  },
  {
   "attachments": {},
   "cell_type": "markdown",
   "metadata": {},
   "source": [
    "# Joint SQL Lines"
   ]
  },
  {
   "cell_type": "code",
   "execution_count": 61,
   "metadata": {},
   "outputs": [
    {
     "name": "stdout",
     "output_type": "stream",
     "text": [
      "Merged SQL files saved to: /Users/jerrysong/Study_Grad/Nankai_Research_with_Python/Nankai_Research/Temoa_2.0_collection/data_files/Self_MaAp/data/Teoma_CN_MaAp.sql\n"
     ]
    }
   ],
   "source": [
    "# Set the path of the input SQL files\n",
    "file1_path = '/Users/jerrysong/Study_Grad/Nankai_Research_with_Python/Nankai_Research/Temoa_2.0_collection/data_files/Self_MaAp/data/Archive/Teoma_CN_Template.sql'\n",
    "file2_path = '/Users/jerrysong/Study_Grad/Nankai_Research_with_Python/Nankai_Research/Temoa_2.0_collection/data_files/Self_MaAp/import/sql_import.sql'\n",
    "\n",
    "# Set the path of the output SQL file\n",
    "output_path = '/Users/jerrysong/Study_Grad/Nankai_Research_with_Python/Nankai_Research/Temoa_2.0_collection/data_files/Self_MaAp/data/Teoma_CN_MaAp.sql'\n",
    "\n",
    "# Read the contents of the input SQL files\n",
    "with open(file1_path, \"r\") as file1:\n",
    "    file1_contents = file1.read()\n",
    "\n",
    "with open(file2_path, \"r\") as file2:\n",
    "    file2_contents = file2.read()\n",
    "\n",
    "# Concatenate the contents of the input SQL files\n",
    "output_contents = file1_contents + \"\\n\" + file2_contents + \"\\n COMMIT;\"\n",
    "\n",
    "# Write the concatenated contents to the output SQL file\n",
    "with open(output_path, \"w\") as output_file:\n",
    "    output_file.write(output_contents)\n",
    "\n",
    "print(\"Merged SQL files saved to:\", os.path.abspath(output_path))"
   ]
  }
 ],
 "metadata": {
  "kernelspec": {
   "display_name": "base",
   "language": "python",
   "name": "python3"
  },
  "language_info": {
   "codemirror_mode": {
    "name": "ipython",
    "version": 3
   },
   "file_extension": ".py",
   "mimetype": "text/x-python",
   "name": "python",
   "nbconvert_exporter": "python",
   "pygments_lexer": "ipython3",
   "version": "3.7.3"
  },
  "orig_nbformat": 4
 },
 "nbformat": 4,
 "nbformat_minor": 2
}
