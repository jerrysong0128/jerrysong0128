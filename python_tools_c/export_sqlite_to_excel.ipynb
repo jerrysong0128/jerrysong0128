{
 "cells": [
  {
   "cell_type": "code",
   "execution_count": 1,
   "metadata": {},
   "outputs": [],
   "source": [
    "import sqlite3\n",
    "from xlsxwriter.workbook import Workbook"
   ]
  },
  {
   "cell_type": "markdown",
   "metadata": {},
   "source": [
    "### 导入数据库"
   ]
  },
  {
   "cell_type": "code",
   "execution_count": 2,
   "metadata": {},
   "outputs": [],
   "source": [
    "db_path ='../self_construct/US_National_js_feb.sqlite'"
   ]
  },
  {
   "cell_type": "code",
   "execution_count": 3,
   "metadata": {},
   "outputs": [],
   "source": [
    "xsl_path = '../test.xls'"
   ]
  },
  {
   "cell_type": "code",
   "execution_count": 10,
   "metadata": {},
   "outputs": [],
   "source": [
    "#!/usr/bin/env python\n",
    "\n",
    "import sqlite3 #import sqlite3 module\n",
    "import xlwt #import xlwt module\n",
    "\n",
    "#connect to a database\n",
    "con = sqlite3.connect(db_path) #replace example.db with your database name\n",
    "\n",
    "#create a cursor object\n",
    "cursor = con.cursor()\n",
    "\n",
    "#execute the SQL statement\n",
    "cursor.execute('''SELECT name FROM sqlite_master WHERE type='table' ''')\n",
    "\n",
    "#fetch all the data from the database\n",
    "data = cursor.fetchall()\n",
    "\n",
    "#create a workbook\n",
    "workbook = xlwt.Workbook()\n",
    "\n",
    "# Iterate over each table\n",
    "for table in data:\n",
    "    input_string = str(table)\n",
    "    string_list = input_string.split(',')\n",
    "    table = string_list[0].strip(\"'()\")\n",
    "    sheet = workbook.add_sheet(table) #add a sheet\n",
    "    cursor.execute('''SELECT * FROM %s''' % table) #execute the SQL statement\n",
    "    table_data = cursor.fetchall()\n",
    "    for i, row in enumerate(table_data):\n",
    "        for j, col in enumerate(row):\n",
    "            sheet.write(i, j, col)\n",
    "\n",
    "#save the workbook\n",
    "workbook.save(xsl_path) #replace excel_file.xls with your desired filename\n",
    "\n",
    "#close the connection\n",
    "con.close()"
   ]
  }
 ],
 "metadata": {
  "kernelspec": {
   "display_name": "Python 3.7.3 ('environment')",
   "language": "python",
   "name": "python3"
  },
  "language_info": {
   "codemirror_mode": {
    "name": "ipython",
    "version": 3
   },
   "file_extension": ".py",
   "mimetype": "text/x-python",
   "name": "python",
   "nbconvert_exporter": "python",
   "pygments_lexer": "ipython3",
   "version": "3.7.3"
  },
  "orig_nbformat": 4,
  "vscode": {
   "interpreter": {
    "hash": "fe90bc35d8ea1d404304accc9879f315b36ace5f825b43c569c37d0125bad132"
   }
  }
 },
 "nbformat": 4,
 "nbformat_minor": 2
}
