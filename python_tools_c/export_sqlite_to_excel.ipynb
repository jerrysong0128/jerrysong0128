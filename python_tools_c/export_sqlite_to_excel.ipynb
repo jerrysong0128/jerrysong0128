{
 "cells": [
  {
   "cell_type": "code",
   "execution_count": 8,
   "metadata": {},
   "outputs": [],
   "source": [
    "import sqlite3\n",
    "from xlsxwriter.workbook import Workbook"
   ]
  },
  {
   "cell_type": "markdown",
   "metadata": {},
   "source": [
    "### 导入数据库"
   ]
  },
  {
   "cell_type": "code",
   "execution_count": 9,
   "metadata": {},
   "outputs": [],
   "source": [
    "db_path ='../data_files/Temoa_Input_US/completed_analyses/Env_Modelling_Software_2015/EMS_base_1130.sqlite'"
   ]
  },
  {
   "cell_type": "code",
   "execution_count": 10,
   "metadata": {},
   "outputs": [],
   "source": [
    "xsl_path = '../test.xls'"
   ]
  },
  {
   "cell_type": "code",
   "execution_count": 12,
   "metadata": {},
   "outputs": [],
   "source": [
    "\n",
    "workbook = Workbook(xsl_path)\n",
    "worksheet = workbook.add_worksheet()\n",
    "# 传入数据库路径，db.s3db或者test.sqlite\n",
    "conn=sqlite3.connect(db_path)\n",
    "c=conn.cursor()\n",
    "\n",
    "mysel=c.execute(\"select * from CapacityToActivity\")\n",
    "for i, row in enumerate(mysel):\n",
    "    for j, value in enumerate(row):\n",
    "        worksheet.write(i, j, value)\n",
    "workbook.close()\n",
    "\n"
   ]
  }
 ],
 "metadata": {
  "kernelspec": {
   "display_name": "Python 3.7.3 ('environment')",
   "language": "python",
   "name": "python3"
  },
  "language_info": {
   "codemirror_mode": {
    "name": "ipython",
    "version": 3
   },
   "file_extension": ".py",
   "mimetype": "text/x-python",
   "name": "python",
   "nbconvert_exporter": "python",
   "pygments_lexer": "ipython3",
   "version": "3.7.3"
  },
  "orig_nbformat": 4,
  "vscode": {
   "interpreter": {
    "hash": "fe90bc35d8ea1d404304accc9879f315b36ace5f825b43c569c37d0125bad132"
   }
  }
 },
 "nbformat": 4,
 "nbformat_minor": 2
}
