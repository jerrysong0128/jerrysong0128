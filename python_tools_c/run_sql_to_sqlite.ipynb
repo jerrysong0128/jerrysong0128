{
 "cells": [
  {
   "cell_type": "markdown",
   "metadata": {},
   "source": [
    "### 导入数据库"
   ]
  },
  {
   "cell_type": "code",
   "execution_count": 135,
   "metadata": {},
   "outputs": [],
   "source": [
    "db_path ='/Users/jerrysong/Study_Grad/Nankai_Research_with_Python/Nankai_Research/Temoa_2.0_collection/data_files/self_construct/US_National_js_feb.sqlite'\n",
    "#db_path ='/Users/jerrysong/Study_Grad/Nankai_Research_with_Python/Nankai_Research/Temoa_2.0_collection/data_files/self_construct/temoa_utopia_del.sqlite'"
   ]
  },
  {
   "cell_type": "markdown",
   "metadata": {},
   "source": [
    "### 执行sql文件地址"
   ]
  },
  {
   "cell_type": "code",
   "execution_count": 136,
   "metadata": {},
   "outputs": [],
   "source": [
    "\n",
    "sql_file = '/Users/jerrysong/Study_Grad/Nankai_Research_with_Python/Nankai_Research/Temoa_2.0_collection/data_files/self_construct/US_National_js_feb.sql'\n",
    "#sql_file = '/Users/jerrysong/Study_Grad/Nankai_Research_with_Python/Nankai_Research/Temoa_2.0_collection/data_files/self_construct/temoa_utopia_del.sql'"
   ]
  },
  {
   "cell_type": "code",
   "execution_count": 137,
   "metadata": {},
   "outputs": [],
   "source": [
    "# db_path ='/Users/jerrysong/Study_Grad/Nankai_Research_with_Python/Nankai_Research/Temoa_2.0_collection/data_files/self_construct/for_reference/US_Regional.sqlite'\n",
    "# sql_file = '/Users/jerrysong/Study_Grad/Nankai_Research_with_Python/Nankai_Research/Temoa_2.0_collection/data_files/Temoa_Input_US_based_1.0/US_Regional.sql'"
   ]
  },
  {
   "cell_type": "code",
   "execution_count": 138,
   "metadata": {},
   "outputs": [
    {
     "name": "stdout",
     "output_type": "stream",
     "text": [
      "数据库清空并打开\n"
     ]
    }
   ],
   "source": [
    "import sqlite3\n",
    "import os\n",
    "os.remove(db_path) #清除文件\n",
    "con = sqlite3.connect(db_path)  # 新建sqlite3数据文件\n",
    "cs = con.cursor()\n",
    "print (\"数据库清空并打开\")"
   ]
  },
  {
   "cell_type": "code",
   "execution_count": 139,
   "metadata": {},
   "outputs": [
    {
     "name": "stdout",
     "output_type": "stream",
     "text": [
      "导入数据清理函数\n"
     ]
    }
   ],
   "source": [
    "from enum import Enum\n",
    "# 定义状态的枚举\n",
    "class State(Enum):\n",
    " \n",
    "    CODE = 0                        # 代码\n",
    "    SLASH = 1                       # 斜杠\n",
    "    NOTE_MULTILINE = 2              # 多行注释\n",
    "    NOTE_MULTILINE_STAR = 3         # 多行注释遇到*\n",
    "    NOTE_SINGLELINE = 4             # 单行注释\n",
    "    BACKSLASH = 5                   # 拆行注释\n",
    "    CODE_CHAR = 6                   # 字符\n",
    "    CHAR_ESCAPE_SEQUENCE = 7        # 字符中的转义字符\n",
    "    CODE_STRING = 8                 # 字符串\n",
    "    STRING_ESCAPE_SEQUENCE = 9      # 字符串中的转义字符\n",
    "    STRIGULA = 10                   # 短横线\n",
    " \n",
    "# 删除sql语句中的注释\n",
    "def delete_sql_note(str):\n",
    "    # TODO 两种情况：\"--\"与\"/*...*/\"\n",
    "    s = \"\"\n",
    "    # 初始状态定义为代码\n",
    "    state = State.CODE\n",
    "    for c in str:\n",
    "        if state == State.CODE:\n",
    "            # 遇到单斜杠\n",
    "            if c == '/':\n",
    "                # 将状态改为单斜杠\n",
    "                state = State.SLASH\n",
    "            # 遇上短横线\n",
    "            elif c == \"-\":\n",
    "                state = State.STRIGULA\n",
    "            else:\n",
    "                s += c\n",
    "                # 在代码中遇到字符\n",
    "                if c == '\\'':\n",
    "                    state = State.CODE_CHAR\n",
    "                # 在代码中遇到字符串\n",
    "                elif c == '\\\"':\n",
    "                    state = State.CODE_STRING\n",
    " \n",
    "        # 如果遇到单横线\n",
    "        elif state == State.STRIGULA:\n",
    "            # 后面接着跟一个单横线，则说明是单行注释\n",
    "            if c == '-':\n",
    "                state = State.NOTE_SINGLELINE\n",
    "            # 如果后面跟的是其他字符，则将状态转为代码\n",
    "            else:\n",
    "                s += \"-\" + c\n",
    "                state = State.CODE\n",
    " \n",
    "        # 遇到单斜杠\n",
    "        elif state == State.SLASH:\n",
    "            # 单斜杠后面再遇到*号，则说明是多行注释\n",
    "            if c == '*':\n",
    "                state = State.NOTE_MULTILINE\n",
    "            # 单斜杠后面再遇到单斜杠，说明是单行注释\n",
    "            elif c == '/':\n",
    "                state = State.NOTE_SINGLELINE\n",
    "            # 如果是其他，则将其添加到字符串中\n",
    "            else:\n",
    "                s += \"/\"\n",
    "                s += c\n",
    "                state = State.CODE\n",
    " \n",
    "        # 遇到多行注释\n",
    "        elif state == State.NOTE_MULTILINE:\n",
    "            # 多行注释后面遇到*号\n",
    "            if c == '*':\n",
    "                state = State.NOTE_MULTILINE_STAR\n",
    "            # 多行注释后面换行了\n",
    "            else:\n",
    "                if c == '\\n':\n",
    "                    s += '\\r\\n'\n",
    "                # 则当前状态还是多行注释\n",
    "                state = State.NOTE_MULTILINE\n",
    "        # 多行注释后面又遇到*号\n",
    "        elif state == State.NOTE_MULTILINE_STAR:\n",
    "            # 如果*号后面又是单斜杠在，则说明注释结束了\n",
    "            if c == '/':\n",
    "                # 将状态改为代码\n",
    "                state = State.CODE\n",
    "            # 如果*号后面又是*号，则说明还是多行注释遇到*\n",
    "            elif c == '*':\n",
    "                state = State.NOTE_MULTILINE_STAR\n",
    "            # 其他情况还是多行注释\n",
    "            else:\n",
    "                state = State.NOTE_MULTILINE\n",
    "        # 单行注释\n",
    "        elif state == State.NOTE_SINGLELINE:\n",
    "            if c == '\\\\':\n",
    "                state = State.BACKSLASH\n",
    "            # 如果遇到换行符，则说明单行注释结束了\n",
    "            elif c == '\\n':\n",
    "                s += '\\r\\n'\n",
    "                state = State.CODE\n",
    "            # 如果是其他情况，则说明单行注释还没有结束\n",
    "            else:\n",
    "                state = State.NOTE_SINGLELINE\n",
    "        # 拆行注释\n",
    "        elif state == State.BACKSLASH:\n",
    "            if c == '\\\\' or c == '\\r' or c == '\\n':\n",
    "                if c == '\\n':\n",
    "                    s += '\\r\\n'\n",
    "                state = State.BACKSLASH\n",
    "            else:\n",
    "                state = State.NOTE_SINGLELINE\n",
    "        # 代码中遇到单引号\n",
    "        elif state == State.CODE_CHAR:\n",
    "            s += c\n",
    "            # 字符串中的转义字符\n",
    "            if c == '\\\\':\n",
    "                state = State.CHAR_ESCAPE_SEQUENCE\n",
    "            # 再次遇到单引号，则说明字符串内容结束了。\n",
    "            elif c == '\\'':\n",
    "                state = State.CODE\n",
    "            # 如果是其他情况，则还是在字符串中\n",
    "            else:\n",
    "                state = State.CODE_CHAR\n",
    "        # 字符串中遇到转义字符\n",
    "        elif state == State.CHAR_ESCAPE_SEQUENCE:\n",
    "            s += c\n",
    "            state = State.CODE_CHAR\n",
    "        # 字符串\n",
    "        elif state == State.CODE_STRING:\n",
    "            s += c\n",
    "            if c == '\\\\':\n",
    "                state = State.STRING_ESCAPE_SEQUENCE\n",
    "            # 字符串内容结束\n",
    "            elif c == '\\\"':\n",
    "                state = State.CODE\n",
    "            else:\n",
    "                state = State.CODE_STRING\n",
    "        elif state == State.STRING_ESCAPE_SEQUENCE:\n",
    "            s += c\n",
    "            state = State.CODE_STRING\n",
    "    return s\n",
    "\n",
    "print('导入数据清理函数')   \n"
   ]
  },
  {
   "cell_type": "code",
   "execution_count": 140,
   "metadata": {},
   "outputs": [],
   "source": [
    "with open(sql_file,encoding='utf-8',mode='r') as f:\n",
    "    # 读取整个sql文件，以分号切割。[:-1]删除最后一个元素，也就是空字符串\n",
    "    f = f.read()\n",
    "    res = delete_sql_note(f)\n",
    "    sql_list = res.split(';')[:-1]\n",
    "    a=0\n",
    "    for x in sql_list:\n",
    "        # 判断包含空行的\n",
    "        if '\\n' in x:\n",
    "            # 替换空行为1个空格\n",
    "            x = x.replace('\\n', ' ')\n",
    "\n",
    "        # sql语句添加分号结尾\n",
    "        sql_item = x+';'\n",
    "        cs.execute(sql_item)\n",
    "        #print(x)\n",
    "        a=a+1\n",
    "\n",
    "con.commit()\n",
    "cs.close()\n",
    "con.close()\n",
    "\n",
    "# print(\"数据导入成功\")"
   ]
  }
 ],
 "metadata": {
  "kernelspec": {
   "display_name": "Python 3.7.3 ('environment')",
   "language": "python",
   "name": "python3"
  },
  "language_info": {
   "codemirror_mode": {
    "name": "ipython",
    "version": 3
   },
   "file_extension": ".py",
   "mimetype": "text/x-python",
   "name": "python",
   "nbconvert_exporter": "python",
   "pygments_lexer": "ipython3",
   "version": "3.7.3"
  },
  "orig_nbformat": 4,
  "vscode": {
   "interpreter": {
    "hash": "fe90bc35d8ea1d404304accc9879f315b36ace5f825b43c569c37d0125bad132"
   }
  }
 },
 "nbformat": 4,
 "nbformat_minor": 2
}
