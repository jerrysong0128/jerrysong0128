{
 "cells": [
  {
   "cell_type": "markdown",
   "metadata": {},
   "source": [
    "### 导入数据库"
   ]
  },
  {
   "cell_type": "code",
   "execution_count": 15,
   "metadata": {},
   "outputs": [],
   "source": [
    "db_path ='../data_files/Temoa_Input_US/completed_analyses/Env_Modelling_Software_2015/EMS_base_1130.sqlite'"
   ]
  },
  {
   "cell_type": "markdown",
   "metadata": {},
   "source": [
    "### 执行sql文件地址"
   ]
  },
  {
   "cell_type": "code",
   "execution_count": 19,
   "metadata": {},
   "outputs": [],
   "source": [
    "sql_file = '../data_files/Temoa_Input_US/completed_analyses/Env_Modelling_Software_2015/EMS_base_clear.sql'"
   ]
  },
  {
   "cell_type": "code",
   "execution_count": 20,
   "metadata": {},
   "outputs": [
    {
     "name": "stdout",
     "output_type": "stream",
     "text": [
      "数据库清空并打开\n"
     ]
    }
   ],
   "source": [
    "import sqlite3\n",
    "import os\n",
    "os.remove(db_path) #清除文件\n",
    "con = sqlite3.connect(db_path)  # 新建sqlite3数据文件\n",
    "cs = con.cursor()\n",
    "print (\"数据库清空并打开\")"
   ]
  },
  {
   "cell_type": "code",
   "execution_count": 21,
   "metadata": {},
   "outputs": [],
   "source": [
    "with open(sql_file,encoding='utf-8',mode='r') as f:\n",
    "    # 读取整个sql文件，以分号切割。[:-1]删除最后一个元素，也就是空字符串\n",
    "    sql_list = f.read().split(';')[:-1]\n",
    "    for x in sql_list:\n",
    "        # 判断包含空行的\n",
    "        if '\\n' in x:\n",
    "            # 替换空行为1个空格\n",
    "            x = x.replace('\\n', ' ')\n",
    "\n",
    "        # sql语句添加分号结尾\n",
    "        sql_item = x+';'\n",
    "        cs.execute(sql_item)\n",
    "\n",
    "con.commit()\n",
    "cs.close()\n",
    "con.close()\n",
    "\n",
    "# print(\"数据导入成功\")\n",
    "\n"
   ]
  },
  {
   "cell_type": "code",
   "execution_count": 13,
   "metadata": {},
   "outputs": [
    {
     "data": {
      "text/plain": [
       "'\\nsql = \"\"\"\\nCREATE TABLE time_period_labels (\\n  t_period_labels text primary key,\\n  t_period_labels_desc text);\\n\"\"\"\\ncs.execute(sql)\\n\\nsql_1 = \"\"\"\\nCREATE TABLE time_periods (\\n  t_periods integer primary key,\\n  flag text,\\n  FOREIGN KEY(flag) REFERENCES time_period_labels(t_period_labels)); \\n\"\"\"\\ncs.execute(sql_1)\\n'"
      ]
     },
     "execution_count": 13,
     "metadata": {},
     "output_type": "execute_result"
    }
   ],
   "source": [
    "'''\n",
    "sql = \"\"\"\n",
    "CREATE TABLE time_period_labels (\n",
    "  t_period_labels text primary key,\n",
    "  t_period_labels_desc text);\n",
    "\"\"\"\n",
    "cs.execute(sql)\n",
    "\n",
    "sql_1 = \"\"\"\n",
    "CREATE TABLE time_periods (\n",
    "  t_periods integer primary key,\n",
    "  flag text,\n",
    "  FOREIGN KEY(flag) REFERENCES time_period_labels(t_period_labels)); \n",
    "\"\"\"\n",
    "cs.execute(sql_1)\n",
    "'''"
   ]
  }
 ],
 "metadata": {
  "kernelspec": {
   "display_name": "Python 3.7.3 ('environment')",
   "language": "python",
   "name": "python3"
  },
  "language_info": {
   "codemirror_mode": {
    "name": "ipython",
    "version": 3
   },
   "file_extension": ".py",
   "mimetype": "text/x-python",
   "name": "python",
   "nbconvert_exporter": "python",
   "pygments_lexer": "ipython3",
   "version": "3.7.3"
  },
  "orig_nbformat": 4,
  "vscode": {
   "interpreter": {
    "hash": "fe90bc35d8ea1d404304accc9879f315b36ace5f825b43c569c37d0125bad132"
   }
  }
 },
 "nbformat": 4,
 "nbformat_minor": 2
}
