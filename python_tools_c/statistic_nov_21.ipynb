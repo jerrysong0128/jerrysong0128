{
 "cells": [
  {
   "cell_type": "markdown",
   "metadata": {},
   "source": [
    "## Python Graphic"
   ]
  },
  {
   "cell_type": "code",
   "execution_count": null,
   "metadata": {},
   "outputs": [],
   "source": [
    "import numpy as np\n",
    "import pandas as pd\n",
    "import matplotlib.pyplot as plt\n",
    "import seaborn as sns"
   ]
  },
  {
   "cell_type": "code",
   "execution_count": null,
   "metadata": {},
   "outputs": [],
   "source": [
    "# 生成0-1之间的10*4维度数据\n",
    "\n",
    "data=np.random.normal(size=(10,4)) \n",
    "\n",
    "lables = ['A','B','C','D']\n",
    "\n",
    "# 用Matplotlib画箱线图\n",
    "\n",
    "plt.boxplot(data,labels=lables)\n",
    "\n",
    "plt.show()"
   ]
  },
  {
   "cell_type": "code",
   "execution_count": null,
   "metadata": {},
   "outputs": [],
   "source": [
    "# 其它参数demo\n",
    "# sns.boxplot(data, names=['down', 'up'],linewidth=2, widths =.5, vert=False, color='slategray')\n"
   ]
  }
 ],
 "metadata": {
  "kernelspec": {
   "display_name": "Python 3.9.13 ('base')",
   "language": "python",
   "name": "python3"
  },
  "language_info": {
   "codemirror_mode": {
    "name": "ipython",
    "version": 3
   },
   "file_extension": ".py",
   "mimetype": "text/x-python",
   "name": "python",
   "nbconvert_exporter": "python",
   "pygments_lexer": "ipython3",
   "version": "3.9.13"
  },
  "orig_nbformat": 4,
  "vscode": {
   "interpreter": {
    "hash": "92838f3e0884e7fad9f3b115327a8e1526994876df9faaa8cd73e7a91a4bc3c3"
   }
  }
 },
 "nbformat": 4,
 "nbformat_minor": 2
}
